{
 "cells": [
  {
   "cell_type": "markdown",
   "id": "82a6247c",
   "metadata": {},
   "source": [
    "# 实验三： 卷积神经网络\n",
    "\n",
    "#### 班级:   &emsp; &emsp; &emsp; &emsp;&emsp;&emsp;&emsp; &emsp; &emsp; &emsp; &emsp;        学号:  &emsp; &emsp; &emsp; &emsp; &emsp; &emsp; &emsp; &emsp; &emsp; &emsp; &emsp; &emsp;       姓名: &emsp; &emsp; &emsp; &emsp; &emsp; &emsp; &emsp; &emsp; &emsp; &emsp; "
   ]
  },
  {
   "cell_type": "markdown",
   "id": "2bde2e81",
   "metadata": {},
   "source": [
    "## 经典数据库\n",
    "\n",
    "使用经典数据库fashion_mnist(位于keras库的datasets里)， 搭建CNN。 此CNN可以称为CNN 的Hello World 版。 是所有深度学习学生必须掌握的， 其中每一行语句都是最常用的语句。"
   ]
  },
  {
   "cell_type": "code",
   "execution_count": 4,
   "id": "723015b7",
   "metadata": {},
   "outputs": [],
   "source": [
    "import numpy as np\n",
    "import tensorflow as tf \n",
    "import matplotlib.pyplot as plt \n",
    "np.set_printoptions(linewidth=200) "
   ]
  },
  {
   "cell_type": "code",
   "execution_count": 17,
   "id": "a9e68968",
   "metadata": {},
   "outputs": [],
   "source": [
    "# 你的代码\n",
    "mnist = None"
   ]
  },
  {
   "cell_type": "code",
   "execution_count": 18,
   "id": "53751a43",
   "metadata": {},
   "outputs": [],
   "source": [
    "(train_images, train_labels), (test_images, test_labels) = mnist.load_data()"
   ]
  },
  {
   "cell_type": "code",
   "execution_count": null,
   "id": "ca8bb745",
   "metadata": {},
   "outputs": [],
   "source": [
    "index = 9 \n",
    "print(train_images[index]) \n",
    "plt.imshow(train_images[index])"
   ]
  },
  {
   "cell_type": "code",
   "execution_count": 20,
   "id": "6df77c77",
   "metadata": {},
   "outputs": [],
   "source": [
    "train_images, test_images = train_images / 255.0, test_images / 255.0"
   ]
  },
  {
   "cell_type": "code",
   "execution_count": 21,
   "id": "a9fa266a",
   "metadata": {},
   "outputs": [],
   "source": [
    "train_images = train_images.reshape(60000, 28, 28, 1) \n",
    "test_images = test_images.reshape(10000, 28, 28, 1) "
   ]
  },
  {
   "cell_type": "markdown",
   "id": "f9c05aca",
   "metadata": {},
   "source": [
    "## 卷积神经网络模型\n",
    "\n",
    " 部署两层卷积+池化层。 第一层16个卷积核+MaxPooling， 第二层32个卷积核+MaxPooling。Dense共两层， 第一层256个神经元(activation='relu'), 第二层 128个神经元（activation='relu'),  最后一层是10个，activation='softmax'."
   ]
  },
  {
   "cell_type": "code",
   "execution_count": null,
   "id": "4847777f",
   "metadata": {},
   "outputs": [],
   "source": []
  },
  {
   "cell_type": "markdown",
   "id": "b27cacb6",
   "metadata": {},
   "source": [
    "## LeNet-5 \n",
    "\n",
    "经典的CNN模型， 请参考MATLAB, 写出相应的模型。 model.fit, evaluate 放在后一个cell中。 "
   ]
  },
  {
   "cell_type": "code",
   "execution_count": null,
   "id": "6a50492c",
   "metadata": {},
   "outputs": [],
   "source": []
  },
  {
   "cell_type": "markdown",
   "id": "a967ea7a",
   "metadata": {},
   "source": [
    "### 导入数据 mnist 手写字符库"
   ]
  },
  {
   "cell_type": "code",
   "execution_count": null,
   "id": "007b2a95",
   "metadata": {},
   "outputs": [],
   "source": [
    "# 你的代码"
   ]
  },
  {
   "cell_type": "markdown",
   "id": "e9569655",
   "metadata": {},
   "source": [
    "### 显示部分图像 (小技巧)\n",
    "\n",
    "修改代码， 随机显示36幅图像， 原代码是显示前36幅"
   ]
  },
  {
   "cell_type": "code",
   "execution_count": 11,
   "id": "6c890a0e",
   "metadata": {},
   "outputs": [
    {
     "data": {
      "text/plain": [
       "array([17, 88,  9, 23, 10, 39, 42, 20, 17, 29])"
      ]
     },
     "execution_count": 11,
     "metadata": {},
     "output_type": "execute_result"
    }
   ],
   "source": [
    "import numpy as np \n",
    "rnd = np.random.randint(60000, size=(10,))\n",
    "rnd"
   ]
  },
  {
   "cell_type": "markdown",
   "id": "fd7a019c",
   "metadata": {},
   "source": [
    "### 问题: \n",
    "反复运行上面的代码， 猜测上面代码是在做什么？"
   ]
  },
  {
   "cell_type": "code",
   "execution_count": 12,
   "id": "508b0b2c",
   "metadata": {},
   "outputs": [
    {
     "ename": "NameError",
     "evalue": "name 'plt' is not defined",
     "output_type": "error",
     "traceback": [
      "\u001b[1;31m---------------------------------------------------------------------------\u001b[0m",
      "\u001b[1;31mNameError\u001b[0m                                 Traceback (most recent call last)",
      "\u001b[1;32m<ipython-input-12-fd6202bf788a>\u001b[0m in \u001b[0;36m<module>\u001b[1;34m\u001b[0m\n\u001b[1;32m----> 1\u001b[1;33m \u001b[0mplt\u001b[0m\u001b[1;33m.\u001b[0m\u001b[0mfigure\u001b[0m\u001b[1;33m(\u001b[0m\u001b[0mfigsize\u001b[0m\u001b[1;33m=\u001b[0m\u001b[1;33m(\u001b[0m\u001b[1;36m10\u001b[0m\u001b[1;33m,\u001b[0m \u001b[1;36m10\u001b[0m\u001b[1;33m)\u001b[0m\u001b[1;33m)\u001b[0m\u001b[1;33m\u001b[0m\u001b[1;33m\u001b[0m\u001b[0m\n\u001b[0m\u001b[0;32m      2\u001b[0m \u001b[0mrnd\u001b[0m \u001b[1;33m=\u001b[0m \u001b[0mnp\u001b[0m\u001b[1;33m.\u001b[0m\u001b[0mrandom\u001b[0m\u001b[1;33m.\u001b[0m\u001b[0mrandint\u001b[0m\u001b[1;33m(\u001b[0m\u001b[1;36m60000\u001b[0m\u001b[1;33m,\u001b[0m \u001b[0msize\u001b[0m\u001b[1;33m=\u001b[0m\u001b[1;33m(\u001b[0m\u001b[1;36m36\u001b[0m\u001b[1;33m,\u001b[0m\u001b[1;33m)\u001b[0m\u001b[1;33m)\u001b[0m\u001b[1;33m\u001b[0m\u001b[1;33m\u001b[0m\u001b[0m\n\u001b[0;32m      3\u001b[0m \u001b[1;32mfor\u001b[0m \u001b[0mi\u001b[0m \u001b[1;32min\u001b[0m \u001b[0mrange\u001b[0m\u001b[1;33m(\u001b[0m\u001b[1;36m36\u001b[0m\u001b[1;33m)\u001b[0m\u001b[1;33m:\u001b[0m\u001b[1;33m\u001b[0m\u001b[1;33m\u001b[0m\u001b[0m\n\u001b[0;32m      4\u001b[0m     \u001b[0mplt\u001b[0m\u001b[1;33m.\u001b[0m\u001b[0msubplot\u001b[0m\u001b[1;33m(\u001b[0m\u001b[1;36m6\u001b[0m\u001b[1;33m,\u001b[0m \u001b[1;36m6\u001b[0m\u001b[1;33m,\u001b[0m \u001b[0mi\u001b[0m \u001b[1;33m+\u001b[0m \u001b[1;36m1\u001b[0m\u001b[1;33m)\u001b[0m\u001b[1;33m\u001b[0m\u001b[1;33m\u001b[0m\u001b[0m\n\u001b[0;32m      5\u001b[0m     \u001b[0mplt\u001b[0m\u001b[1;33m.\u001b[0m\u001b[0mxticks\u001b[0m\u001b[1;33m(\u001b[0m\u001b[1;33m[\u001b[0m\u001b[1;33m]\u001b[0m\u001b[1;33m)\u001b[0m\u001b[1;33m\u001b[0m\u001b[1;33m\u001b[0m\u001b[0m\n",
      "\u001b[1;31mNameError\u001b[0m: name 'plt' is not defined"
     ]
    }
   ],
   "source": [
    "plt.figure(figsize=(10, 10))\n",
    "rnd = np.random.randint(60000, size=(36,))\n",
    "for i in range(36):\n",
    "    plt.subplot(6, 6, i + 1) \n",
    "    plt.xticks([])\n",
    "    plt.yticks([]) \n",
    "    plt.grid(False) \n",
    "    plt.imshow(train_images[i]) # 修改此处， 然后变成随机显示36幅图像\n",
    "plt.show()"
   ]
  },
  {
   "cell_type": "markdown",
   "id": "d7f17e10",
   "metadata": {},
   "source": [
    "### 保存实验结果\n",
    "\n",
    "history = model.fit() 保存实验结果。 \n",
    "\n",
    "两种方式， "
   ]
  },
  {
   "cell_type": "code",
   "execution_count": null,
   "id": "50f67daa",
   "metadata": {},
   "outputs": [],
   "source": []
  },
  {
   "cell_type": "code",
   "execution_count": null,
   "id": "4142b720",
   "metadata": {},
   "outputs": [],
   "source": [
    "history.keys()"
   ]
  },
  {
   "cell_type": "markdown",
   "id": "e5e4b206",
   "metadata": {},
   "source": [
    "## Cifar10 dataset \n",
    "\n",
    "使用该数据集， 然后构建模型。 \n",
    "\n",
    "cifar10: tf.keras.datasets.cifar10 "
   ]
  },
  {
   "cell_type": "code",
   "execution_count": null,
   "id": "bbf995d0",
   "metadata": {},
   "outputs": [],
   "source": []
  },
  {
   "cell_type": "code",
   "execution_count": null,
   "id": "e84cd10b",
   "metadata": {},
   "outputs": [],
   "source": [
    "conv = None # 卷积层"
   ]
  },
  {
   "cell_type": "code",
   "execution_count": null,
   "id": "5a8c8bb9",
   "metadata": {},
   "outputs": [],
   "source": [
    "logits = None # 全联接层"
   ]
  },
  {
   "cell_type": "code",
   "execution_count": null,
   "id": "7bb6b7f5",
   "metadata": {},
   "outputs": [],
   "source": [
    "model = tf.keras.Sequential([conv, logits]) # 这样写的目的是为了熟悉， 告诉你们模型是可以灵活拆解的"
   ]
  },
  {
   "cell_type": "code",
   "execution_count": null,
   "id": "bb9f79a9",
   "metadata": {},
   "outputs": [],
   "source": [
    "history = model.fit(train_images, train_labels, epochs=10, \n",
    "                   validation_data=(test_images, test_labels)) "
   ]
  },
  {
   "cell_type": "code",
   "execution_count": null,
   "id": "01504074",
   "metadata": {},
   "outputs": [],
   "source": []
  }
 ],
 "metadata": {
  "kernelspec": {
   "display_name": "Python 3",
   "language": "python",
   "name": "python3"
  },
  "language_info": {
   "codemirror_mode": {
    "name": "ipython",
    "version": 3
   },
   "file_extension": ".py",
   "mimetype": "text/x-python",
   "name": "python",
   "nbconvert_exporter": "python",
   "pygments_lexer": "ipython3",
   "version": "3.8.8"
  }
 },
 "nbformat": 4,
 "nbformat_minor": 5
}
